{
 "cells": [
  {
   "cell_type": "code",
   "execution_count": 7,
   "metadata": {},
   "outputs": [],
   "source": [
    "import csv\n",
    "import pandas as pd\n",
    "\n",
    "csvFile = open(\"./annotations.csv\",'w',newline='',encoding='utf-8')\n",
    "writer = csv.writer(csvFile)\n",
    "csvRow = []\n",
    "\n",
    "f = open(\"flickr_logos_27_dataset_training_set_annotation.txt\",'r',encoding='GB2312')\n",
    "for line in f:\n",
    "    csvRow = line.split()\n",
    "    writer.writerow(csvRow)\n",
    "\n",
    "f.close()\n",
    "csvFile.close()"
   ]
  },
  {
   "cell_type": "code",
   "execution_count": 87,
   "metadata": {
    "scrolled": true
   },
   "outputs": [
    {
     "data": {
      "text/html": [
       "<div>\n",
       "<style scoped>\n",
       "    .dataframe tbody tr th:only-of-type {\n",
       "        vertical-align: middle;\n",
       "    }\n",
       "\n",
       "    .dataframe tbody tr th {\n",
       "        vertical-align: top;\n",
       "    }\n",
       "\n",
       "    .dataframe thead th {\n",
       "        text-align: right;\n",
       "    }\n",
       "</style>\n",
       "<table border=\"1\" class=\"dataframe\">\n",
       "  <thead>\n",
       "    <tr style=\"text-align: right;\">\n",
       "      <th></th>\n",
       "      <th>0</th>\n",
       "      <th>1</th>\n",
       "      <th>2</th>\n",
       "      <th>3</th>\n",
       "      <th>4</th>\n",
       "      <th>5</th>\n",
       "      <th>6</th>\n",
       "    </tr>\n",
       "  </thead>\n",
       "  <tbody>\n",
       "    <tr>\n",
       "      <th>0</th>\n",
       "      <td>144503924.jpg</td>\n",
       "      <td>Adidas</td>\n",
       "      <td>1</td>\n",
       "      <td>38</td>\n",
       "      <td>12</td>\n",
       "      <td>234</td>\n",
       "      <td>142</td>\n",
       "    </tr>\n",
       "    <tr>\n",
       "      <th>1</th>\n",
       "      <td>2451569770.jpg</td>\n",
       "      <td>Adidas</td>\n",
       "      <td>1</td>\n",
       "      <td>242</td>\n",
       "      <td>208</td>\n",
       "      <td>413</td>\n",
       "      <td>331</td>\n",
       "    </tr>\n",
       "    <tr>\n",
       "      <th>2</th>\n",
       "      <td>390321909.jpg</td>\n",
       "      <td>Adidas</td>\n",
       "      <td>1</td>\n",
       "      <td>13</td>\n",
       "      <td>5</td>\n",
       "      <td>89</td>\n",
       "      <td>60</td>\n",
       "    </tr>\n",
       "    <tr>\n",
       "      <th>3</th>\n",
       "      <td>4761260517.jpg</td>\n",
       "      <td>Adidas</td>\n",
       "      <td>1</td>\n",
       "      <td>43</td>\n",
       "      <td>122</td>\n",
       "      <td>358</td>\n",
       "      <td>354</td>\n",
       "    </tr>\n",
       "    <tr>\n",
       "      <th>4</th>\n",
       "      <td>4763210295.jpg</td>\n",
       "      <td>Adidas</td>\n",
       "      <td>1</td>\n",
       "      <td>83</td>\n",
       "      <td>63</td>\n",
       "      <td>130</td>\n",
       "      <td>93</td>\n",
       "    </tr>\n",
       "  </tbody>\n",
       "</table>\n",
       "</div>"
      ],
      "text/plain": [
       "                0       1  2    3    4    5    6\n",
       "0   144503924.jpg  Adidas  1   38   12  234  142\n",
       "1  2451569770.jpg  Adidas  1  242  208  413  331\n",
       "2   390321909.jpg  Adidas  1   13    5   89   60\n",
       "3  4761260517.jpg  Adidas  1   43  122  358  354\n",
       "4  4763210295.jpg  Adidas  1   83   63  130   93"
      ]
     },
     "execution_count": 87,
     "metadata": {},
     "output_type": "execute_result"
    }
   ],
   "source": [
    "df = pd.read_csv(\"annotations.csv\",header=None)\n",
    "df.head()"
   ]
  },
  {
   "cell_type": "code",
   "execution_count": 88,
   "metadata": {},
   "outputs": [],
   "source": [
    "df.columns=[\"img_path\",\"class\",\"subset\",\"x1\",\"y1\",\"x2\",\"y2\"]"
   ]
  },
  {
   "cell_type": "code",
   "execution_count": 89,
   "metadata": {},
   "outputs": [
    {
     "data": {
      "text/html": [
       "<div>\n",
       "<style scoped>\n",
       "    .dataframe tbody tr th:only-of-type {\n",
       "        vertical-align: middle;\n",
       "    }\n",
       "\n",
       "    .dataframe tbody tr th {\n",
       "        vertical-align: top;\n",
       "    }\n",
       "\n",
       "    .dataframe thead th {\n",
       "        text-align: right;\n",
       "    }\n",
       "</style>\n",
       "<table border=\"1\" class=\"dataframe\">\n",
       "  <thead>\n",
       "    <tr style=\"text-align: right;\">\n",
       "      <th></th>\n",
       "      <th>img_path</th>\n",
       "      <th>x1</th>\n",
       "      <th>y1</th>\n",
       "      <th>x2</th>\n",
       "      <th>y2</th>\n",
       "      <th>class</th>\n",
       "    </tr>\n",
       "  </thead>\n",
       "  <tbody>\n",
       "    <tr>\n",
       "      <th>0</th>\n",
       "      <td>./data/144503924.jpg</td>\n",
       "      <td>38</td>\n",
       "      <td>12</td>\n",
       "      <td>234</td>\n",
       "      <td>142</td>\n",
       "      <td>Adidas</td>\n",
       "    </tr>\n",
       "    <tr>\n",
       "      <th>1</th>\n",
       "      <td>./data/2451569770.jpg</td>\n",
       "      <td>242</td>\n",
       "      <td>208</td>\n",
       "      <td>413</td>\n",
       "      <td>331</td>\n",
       "      <td>Adidas</td>\n",
       "    </tr>\n",
       "    <tr>\n",
       "      <th>2</th>\n",
       "      <td>./data/390321909.jpg</td>\n",
       "      <td>13</td>\n",
       "      <td>5</td>\n",
       "      <td>89</td>\n",
       "      <td>60</td>\n",
       "      <td>Adidas</td>\n",
       "    </tr>\n",
       "    <tr>\n",
       "      <th>3</th>\n",
       "      <td>./data/4761260517.jpg</td>\n",
       "      <td>43</td>\n",
       "      <td>122</td>\n",
       "      <td>358</td>\n",
       "      <td>354</td>\n",
       "      <td>Adidas</td>\n",
       "    </tr>\n",
       "    <tr>\n",
       "      <th>4</th>\n",
       "      <td>./data/4763210295.jpg</td>\n",
       "      <td>83</td>\n",
       "      <td>63</td>\n",
       "      <td>130</td>\n",
       "      <td>93</td>\n",
       "      <td>Adidas</td>\n",
       "    </tr>\n",
       "  </tbody>\n",
       "</table>\n",
       "</div>"
      ],
      "text/plain": [
       "                img_path   x1   y1   x2   y2   class\n",
       "0   ./data/144503924.jpg   38   12  234  142  Adidas\n",
       "1  ./data/2451569770.jpg  242  208  413  331  Adidas\n",
       "2   ./data/390321909.jpg   13    5   89   60  Adidas\n",
       "3  ./data/4761260517.jpg   43  122  358  354  Adidas\n",
       "4  ./data/4763210295.jpg   83   63  130   93  Adidas"
      ]
     },
     "execution_count": 89,
     "metadata": {},
     "output_type": "execute_result"
    }
   ],
   "source": [
    "df=df.drop(\"subset\",axis=1)\n",
    "order=[\"img_path\",\"x1\",\"y1\",\"x2\",\"y2\",\"class\"]\n",
    "df=df[order]\n",
    "df[\"img_path\"]= ['./data/% s' %s for s in df[\"img_path\"]]\n",
    "df.head()"
   ]
  },
  {
   "cell_type": "code",
   "execution_count": 90,
   "metadata": {},
   "outputs": [],
   "source": [
    "df=df[df[\"class\"].isin([\"Adidas\",\"Ferrari\",\"Nike\",\"Porsche\",\"Puma\"])]"
   ]
  },
  {
   "cell_type": "code",
   "execution_count": 91,
   "metadata": {},
   "outputs": [],
   "source": [
    "df.to_csv('annotations.txt', header=None, index=False, sep=\" \")"
   ]
  },
  {
   "cell_type": "code",
   "execution_count": 92,
   "metadata": {},
   "outputs": [
    {
     "name": "stdout",
     "output_type": "stream",
     "text": [
      "Total data size： 766\n",
      "Total size:766, now creating train, val, test dataset\n",
      "Successfully written to train_annotations.txt.\n",
      "Successfully written to val_annotations.txt.\n",
      "Successfully written to test_annotations.txt.\n"
     ]
    }
   ],
   "source": [
    "\n",
    "l_train=[]\n",
    "l_val=[]\n",
    "l_test=[]\n",
    "\n",
    "def ReadFileDatas(original_filename):\n",
    "    file=open(original_filename,'r+')\n",
    "    FileNameList=file.readlines()\n",
    "    random.shuffle(FileNameList)\n",
    "    file.close()\n",
    "    print(\"Total data size：\", len(FileNameList))\n",
    "    return FileNameList\n",
    "\n",
    "def TrainValTestFile(FileNameList):\n",
    "    i=0\n",
    "    j=len(FileNameList)\n",
    "    for line in FileNameList:\n",
    "        if i<(j*0.6):\n",
    "            i+=1\n",
    "            l_train.append(line)\n",
    "        elif i<(j*0.8):\n",
    "            i+=1\n",
    "            l_val.append(line)\n",
    "        else:\n",
    "            i+=1\n",
    "            l_test.append(line)\n",
    "    print(\"Total size:%d, now creating train, val, test dataset\"%i)\n",
    "    return l_train,l_val,l_test\n",
    "\n",
    "def WriteDatasToFile(listInfo, new_filename):\n",
    "    file_handle = open(new_filename,'w')\n",
    "    for str_Result in listInfo:\n",
    "        file_handle.write(str_Result)\n",
    "    file_handle.close()\n",
    "    print('Successfully written to %s.' % new_filename)\n",
    "if __name__ == \"__main__\":\n",
    "    listFileInfo = ReadFileDatas('annotations.txt') # 读取文件\n",
    "    l_train,l_val,l_test=TrainValTestFile(listFileInfo)\n",
    "    WriteDatasToFile(l_train, 'train_annotations.txt')\n",
    "    WriteDatasToFile(l_val, 'val_annotations.txt')\n",
    "    WriteDatasToFile(l_test, 'test_annotations.txt')"
   ]
  },
  {
   "cell_type": "code",
   "execution_count": 93,
   "metadata": {},
   "outputs": [],
   "source": [
    "import csv\n",
    "csvFile = open(\"./train_annotations.csv\",'w',newline='',encoding='utf-8')\n",
    "writer = csv.writer(csvFile)\n",
    "csvRow = []\n",
    "\n",
    "f = open(\"train_annotations.txt\",'r',encoding='GB2312')\n",
    "for line in f:\n",
    "    csvRow = line.split()\n",
    "    writer.writerow(csvRow)\n",
    "\n",
    "f.close()\n",
    "csvFile.close()"
   ]
  },
  {
   "cell_type": "code",
   "execution_count": 94,
   "metadata": {},
   "outputs": [],
   "source": [
    "csvFile = open(\"./val_annotations.csv\",'w',newline='',encoding='utf-8')\n",
    "writer = csv.writer(csvFile)\n",
    "csvRow = []\n",
    "\n",
    "f = open(\"val_annotations.txt\",'r',encoding='GB2312')\n",
    "for line in f:\n",
    "    csvRow = line.split()\n",
    "    writer.writerow(csvRow)\n",
    "\n",
    "f.close()\n",
    "csvFile.close()"
   ]
  },
  {
   "cell_type": "code",
   "execution_count": 95,
   "metadata": {},
   "outputs": [],
   "source": [
    "csvFile = open(\"./test_annotations.csv\",'w',newline='',encoding='utf-8')\n",
    "writer = csv.writer(csvFile)\n",
    "csvRow = []\n",
    "\n",
    "f = open(\"test_annotations.txt\",'r',encoding='GB2312')\n",
    "for line in f:\n",
    "    csvRow = line.split()\n",
    "    writer.writerow(csvRow)\n",
    "\n",
    "f.close()\n",
    "csvFile.close()"
   ]
  },
  {
   "cell_type": "code",
   "execution_count": 96,
   "metadata": {},
   "outputs": [],
   "source": [
    "mapper = {\"class\":['Adidas', 'Ferrari', 'Nike', 'Porsche', 'Puma'],\"index\":[0,1,2,3,4]}\n",
    "df_class = pd.DataFrame(mapper)\n",
    "df_class.to_csv('classes.csv', header=None,index=None)\n",
    "#df[\"class\"] = df[\"class\"].map(mapper)"
   ]
  },
  {
   "cell_type": "code",
   "execution_count": null,
   "metadata": {},
   "outputs": [],
   "source": []
  }
 ],
 "metadata": {
  "kernelspec": {
   "display_name": "Python 3",
   "language": "python",
   "name": "python3"
  },
  "language_info": {
   "codemirror_mode": {
    "name": "ipython",
    "version": 3
   },
   "file_extension": ".py",
   "mimetype": "text/x-python",
   "name": "python",
   "nbconvert_exporter": "python",
   "pygments_lexer": "ipython3",
   "version": "3.6.8"
  },
  "toc": {
   "base_numbering": 1,
   "nav_menu": {},
   "number_sections": true,
   "sideBar": true,
   "skip_h1_title": false,
   "title_cell": "Table of Contents",
   "title_sidebar": "Contents",
   "toc_cell": false,
   "toc_position": {},
   "toc_section_display": true,
   "toc_window_display": false
  },
  "varInspector": {
   "cols": {
    "lenName": 16,
    "lenType": 16,
    "lenVar": 40
   },
   "kernels_config": {
    "python": {
     "delete_cmd_postfix": "",
     "delete_cmd_prefix": "del ",
     "library": "var_list.py",
     "varRefreshCmd": "print(var_dic_list())"
    },
    "r": {
     "delete_cmd_postfix": ") ",
     "delete_cmd_prefix": "rm(",
     "library": "var_list.r",
     "varRefreshCmd": "cat(var_dic_list()) "
    }
   },
   "types_to_exclude": [
    "module",
    "function",
    "builtin_function_or_method",
    "instance",
    "_Feature"
   ],
   "window_display": false
  }
 },
 "nbformat": 4,
 "nbformat_minor": 2
}
